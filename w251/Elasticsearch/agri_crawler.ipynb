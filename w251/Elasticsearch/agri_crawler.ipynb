{
 "cells": [
  {
   "cell_type": "code",
   "execution_count": 2,
   "metadata": {},
   "outputs": [],
   "source": [
    "import csv\n",
    "import json\n",
    "import requests\n",
    "import urllib.request as url\n",
    "from bs4 import BeautifulSoup"
   ]
  },
  {
   "cell_type": "code",
   "execution_count": 223,
   "metadata": {},
   "outputs": [
    {
     "name": "stdout",
     "output_type": "stream",
     "text": [
      "Processing the page:  http://www.india.gov.in/topics/agriculture\n",
      "Processing the page:  https://phys.org/news/2017-10-indian-farming.html\n",
      "Processing the page:  https://www.businesstoday.in/opinion/columns/indian-agriculture-what-ails-and-fails-the-farmer-and-a-look-at-policy-imperatives-for-sustainability-in-agriculture/story/260922.html\n",
      "Processing the page:  https://www.forbes.com/sites/quora/2018/04/27/how-technology-is-taking-over-agriculture-in-india/#56585e71483a\n",
      "Processing the page:  https://www.pbs.org/wnet/wideangle/uncategorized/global-cotton-industry-agriculture-in-india/1947/\n",
      "Processing the page:  https://www.linkedin.com/pulse/dark-side-indian-agriculture-paras-sharma/\n",
      "Processing the page:  https://farmer.gov.in/\n",
      "Processing the page:  https://dir.indiamart.com/impcat/agriculture-seeds.html\n",
      "Processing the page:  http://www.iari.res.in/index.php?option=com_content&view=article&id=171&Itemid=952\n",
      "Processing the page:  http://www.indiaseeds.com/\n",
      "Processing the page:  http://agricoop.nic.in/divisiontype/seeds\n",
      "Processing the page:  https://news.microsoft.com/en-in/features/ai-agriculture-icrisat-upl-india/\n",
      "Processing the page:  https://nsai.co.in/\n",
      "Processing the page:  https://www.ncbi.nlm.nih.gov/pubmed/8149823\n",
      "Processing the page:  https://www.icrisat.org/mobile-app-for-pest-and-disease-management-of-crops/\n",
      "Processing the page:  http://croplifeindia.org/importance-of-crop-protection-products-in-indian-agriculture/\n",
      "Processing the page:  http://www.pnas.org/content/111/46/16319\n",
      "Processing the page:  https://www.bbc.com/news/science-environment-15623490\n",
      "Processing the page:  http://www.fao.org/docrep/009/a0257e/A0257E02.htm\n",
      "Processing the page:  https://ideas.repec.org/p/iim/iimawp/wp00230.html\n",
      "Processing the page:  https://www.india.gov.in/topics/agriculture/irrigation\n",
      "Processing the page:  http://www.globalwaterforum.org/2017/06/13/micro-irrigation-in-india-an-assessment-of-bottlenecks-and-realities/\n",
      "Processing the page:  https://www.icrisat.org/labor-scarcity-and-rising-wages-in-indian-agriculture/\n",
      "Processing the page:  https://www.thebetterindia.com/125477/kisan-diwas-successful-farmers-lucrative-business/\n",
      "Processing the page:  https://www.agrifarming.in/tea-farming-information/\n",
      "Processing the page:  https://www.teacoffeespiceofindia.com/tea/tea-statistics\n",
      "Processing the page:  https://www.britannica.com/plant/tea-plant\n",
      "Processing the page:  https://www.indiatea.org/tea_growing_regions\n",
      "Processing the page:  https://www.agrifarming.in/organic-farming/\n",
      "Processing the page:  http://organicfarmingnews.com/lettuce-farming-in-india/\n",
      "Processing the page:  https://dir.indiamart.com/impcat/agricultural-hand-tools.html\n",
      "Processing the page:  http://www.machinetoolsemart.com/agriculture-tools.html\n",
      "Processing the page:  http://www.sitcoindia.com/agricultural/agricultural-tools/\n",
      "Processing the page:  http://www.theagrihub.com/category/agriculture-farm-tools-and-equipment\n",
      "Processing the page:  https://www.thebetterindia.com/76236/organic-farming-first-aquaponic-farm-gurugram-sushant-madaan/\n",
      "Processing the page:  https://www.facebook.com/IndianAquaponicsSociety/\n",
      "Processing the page:  https://www.agricultureinformation.com/india-aquaponics-helps-set-small-aquaponics-farm/\n",
      "Processing the page:  http://www.scind.org/497/Science/aquaponics-a-system-for-food-security.html\n",
      "Processing the page:  https://indiaclimatedialogue.net/2016/08/26/kerala-farmers-embrace-aquaponics/?gclid=EAIaIQobChMI-pj91Mnt3gIVqx-tBh2Z9QgFEAMYAiAAEgJ_sPD_BwE\n",
      "Processing the page:  https://thefishsite.com/articles/kerala-launches-new-aquaponics-project\n",
      "Processing the page:  http://www.soiltestingindia.com/\n",
      "Processing the page:  https://dir.indiamart.com/impcat/soil-testing-services.html\n",
      "Processing the page:  http://www.bausabour.com/soil-testing-services.aspx\n",
      "Processing the page:  http://soiltest.in/soil-water-testing-services.php\n",
      "Processing the page:  https://www.yumpu.com/en/document/view/11780786/methods-manual-soil-testing-in-india-department-of-agriculture-\n",
      "Processing the page:  https://www.researchgate.net/publication/310490712_Sugarcane_Production_and_Development_of_Sugar_Industry_in_India\n",
      "Processing the page:  https://link.springer.com/article/10.1007/s12355-016-0494-2\n",
      "Processing the page:  https://www.nature.com/articles/srep44552\n",
      "Processing the page:  http://www.rainwaterharvesting.org/crisis/drought.htm\n",
      "Processing the page:  https://reliefweb.int/report/india/national-agriculture-drought-assessment-and-monitoring-system\n",
      "Processing the page:  https://www.emeraldinsight.com/doi/abs/10.1108/IJSE-12-2013-0278\n",
      "Processing the page:  https://fee.org/articles/how-to-help-indian-farmers/\n"
     ]
    }
   ],
   "source": [
    "url_file = open('agri_urls.csv')\n",
    "url_reader = csv.reader(url_file)\n",
    "\n",
    "\n",
    "for item in url_reader:\n",
    "    print(\"Processing the page: \", item[0])\n",
    "    page = url.urlopen(item[0])\n",
    "    soup = BeautifulSoup(page, 'lxml')\n",
    "    desc = soup.findAll(attrs={\"name\":\"description\"}) \n",
    "    if desc:\n",
    "        content = desc[0]['content']\n",
    "    else: content=''\n",
    "    data = {\"title\" :  soup.title.string ,\"url\": item[0], \"description\": content.replace(u'\\xa0', u' ')}\n",
    "    r = requests.post('http://xxx.xx.xx.xx:9200/agri/india', json.dumps(data))\n",
    "    if r.status_code >= 300:\n",
    "        print(\"Not able to index this page: \", item[0])\n",
    "    "
   ]
  }
 ],
 "metadata": {
  "kernelspec": {
   "display_name": "Python 3",
   "language": "python",
   "name": "python3"
  },
  "language_info": {
   "codemirror_mode": {
    "name": "ipython",
    "version": 3
   },
   "file_extension": ".py",
   "mimetype": "text/x-python",
   "name": "python",
   "nbconvert_exporter": "python",
   "pygments_lexer": "ipython3",
   "version": "3.6.5"
  }
 },
 "nbformat": 4,
 "nbformat_minor": 2
}
