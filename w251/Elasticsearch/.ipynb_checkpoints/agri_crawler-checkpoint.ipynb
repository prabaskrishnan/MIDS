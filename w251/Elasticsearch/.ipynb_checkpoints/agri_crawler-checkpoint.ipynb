{
 "cells": [
  {
   "cell_type": "code",
   "execution_count": 2,
   "metadata": {},
   "outputs": [],
   "source": [
    "import csv\n",
    "import json\n",
    "import requests\n",
    "import urllib.request as url\n",
    "from bs4 import BeautifulSoup"
   ]
  },
  {
   "cell_type": "code",
   "execution_count": 223,
   "metadata": {},
   "outputs": [
    {
     "name": "stdout",
     "output_type": "stream",
     "text": [
      "Processing the page:  http://www.india.gov.in/topics/agriculture\n",
      "Processing the page:  https://phys.org/news/2017-10-indian-farming.html\n",
      "Processing the page:  https://www.businesstoday.in/opinion/columns/indian-agriculture-what-ails-and-fails-the-farmer-and-a-look-at-policy-imperatives-for-sustainability-in-agriculture/story/260922.html\n",
      "Processing the page:  https://www.forbes.com/sites/quora/2018/04/27/how-technology-is-taking-over-agriculture-in-india/#56585e71483a\n",
      "Processing the page:  https://www.pbs.org/wnet/wideangle/uncategorized/global-cotton-industry-agriculture-in-india/1947/\n",
      "Processing the page:  https://www.linkedin.com/pulse/dark-side-indian-agriculture-paras-sharma/\n",
      "Processing the page:  https://farmer.gov.in/\n",
      "Processing the page:  https://dir.indiamart.com/impcat/agriculture-seeds.html\n",
      "Processing the page:  http://www.iari.res.in/index.php?option=com_content&view=article&id=171&Itemid=952\n",
      "Processing the page:  http://www.indiaseeds.com/\n",
      "Processing the page:  http://agricoop.nic.in/divisiontype/seeds\n",
      "Processing the page:  https://news.microsoft.com/en-in/features/ai-agriculture-icrisat-upl-india/\n",
      "Processing the page:  https://nsai.co.in/\n",
      "Processing the page:  https://www.ncbi.nlm.nih.gov/pubmed/8149823\n",
      "Processing the page:  https://www.icrisat.org/mobile-app-for-pest-and-disease-management-of-crops/\n",
      "Processing the page:  http://croplifeindia.org/importance-of-crop-protection-products-in-indian-agriculture/\n",
      "Processing the page:  http://www.pnas.org/content/111/46/16319\n",
      "Processing the page:  https://www.bbc.com/news/science-environment-15623490\n",
      "Processing the page:  http://www.fao.org/docrep/009/a0257e/A0257E02.htm\n",
      "Processing the page:  https://ideas.repec.org/p/iim/iimawp/wp00230.html\n",
      "Processing the page:  https://www.india.gov.in/topics/agriculture/irrigation\n",
      "Processing the page:  http://www.globalwaterforum.org/2017/06/13/micro-irrigation-in-india-an-assessment-of-bottlenecks-and-realities/\n",
      "Processing the page:  https://www.icrisat.org/labor-scarcity-and-rising-wages-in-indian-agriculture/\n",
      "Processing the page:  https://www.thebetterindia.com/125477/kisan-diwas-successful-farmers-lucrative-business/\n",
      "Processing the page:  https://www.agrifarming.in/tea-farming-information/\n",
      "Processing the page:  https://www.teacoffeespiceofindia.com/tea/tea-statistics\n",
      "Processing the page:  https://www.britannica.com/plant/tea-plant\n",
      "Processing the page:  https://www.indiatea.org/tea_growing_regions\n",
      "Processing the page:  https://www.agrifarming.in/organic-farming/\n",
      "Processing the page:  http://organicfarmingnews.com/lettuce-farming-in-india/\n",
      "Processing the page:  https://dir.indiamart.com/impcat/agricultural-hand-tools.html\n",
      "Processing the page:  http://www.machinetoolsemart.com/agriculture-tools.html\n",
      "Processing the page:  http://www.sitcoindia.com/agricultural/agricultural-tools/\n",
      "Processing the page:  http://www.theagrihub.com/category/agriculture-farm-tools-and-equipment\n",
      "Processing the page:  https://www.thebetterindia.com/76236/organic-farming-first-aquaponic-farm-gurugram-sushant-madaan/\n",
      "Processing the page:  https://www.facebook.com/IndianAquaponicsSociety/\n",
      "Processing the page:  https://www.agricultureinformation.com/india-aquaponics-helps-set-small-aquaponics-farm/\n",
      "Processing the page:  http://www.scind.org/497/Science/aquaponics-a-system-for-food-security.html\n",
      "Processing the page:  https://indiaclimatedialogue.net/2016/08/26/kerala-farmers-embrace-aquaponics/?gclid=EAIaIQobChMI-pj91Mnt3gIVqx-tBh2Z9QgFEAMYAiAAEgJ_sPD_BwE\n",
      "Processing the page:  https://thefishsite.com/articles/kerala-launches-new-aquaponics-project\n",
      "Processing the page:  http://www.soiltestingindia.com/\n",
      "Processing the page:  https://dir.indiamart.com/impcat/soil-testing-services.html\n",
      "Processing the page:  http://www.bausabour.com/soil-testing-services.aspx\n",
      "Processing the page:  http://soiltest.in/soil-water-testing-services.php\n",
      "Processing the page:  https://www.yumpu.com/en/document/view/11780786/methods-manual-soil-testing-in-india-department-of-agriculture-\n",
      "Processing the page:  https://www.researchgate.net/publication/310490712_Sugarcane_Production_and_Development_of_Sugar_Industry_in_India\n",
      "Processing the page:  https://link.springer.com/article/10.1007/s12355-016-0494-2\n",
      "Processing the page:  https://www.nature.com/articles/srep44552\n",
      "Processing the page:  http://www.rainwaterharvesting.org/crisis/drought.htm\n",
      "Processing the page:  https://reliefweb.int/report/india/national-agriculture-drought-assessment-and-monitoring-system\n",
      "Processing the page:  https://www.emeraldinsight.com/doi/abs/10.1108/IJSE-12-2013-0278\n",
      "Processing the page:  https://fee.org/articles/how-to-help-indian-farmers/\n"
     ]
    }
   ],
   "source": [
    "url_file = open('agri_urls.csv')\n",
    "url_reader = csv.reader(url_file)\n",
    "\n",
    "\n",
    "for item in url_reader:\n",
    "    print(\"Processing the page: \", item[0])\n",
    "    page = url.urlopen(item[0])\n",
    "    soup = BeautifulSoup(page, 'lxml')\n",
    "    desc = soup.findAll(attrs={\"name\":\"description\"}) \n",
    "    if desc:\n",
    "        content = desc[0]['content']\n",
    "    else: content=''\n",
    "    data = {\"title\" :  soup.title.string ,\"url\": item[0], \"description\": content.replace(u'\\xa0', u' ')}\n",
    "    r = requests.post('http://169.54.142.59:9200/agri/india', json.dumps(data))\n",
    "    if r.status_code >= 300:\n",
    "        print(\"Not able to index this page: \", item[0])\n",
    "    "
   ]
  },
  {
   "cell_type": "code",
   "execution_count": 3,
   "metadata": {},
   "outputs": [
    {
     "name": "stdout",
     "output_type": "stream",
     "text": [
      "{\n",
      "  \"took\" : 22,\n",
      "  \"timed_out\" : false,\n",
      "  \"_shards\" : {\n",
      "    \"total\" : 5,\n",
      "    \"successful\" : 5,\n",
      "    \"failed\" : 0\n",
      "  },\n",
      "  \"hits\" : {\n",
      "    \"total\" : 4,\n",
      "    \"max_score\" : 0.9232876,\n",
      "    \"hits\" : [ {\n",
      "      \"_index\" : \"agri\",\n",
      "      \"_type\" : \"india\",\n",
      "      \"_id\" : \"AWdHtyYW-RmEWWMZbdJi\",\n",
      "      \"_score\" : 0.9232876,\n",
      "      \"_source\":{\"title\": \"Tea production | plant | Britannica.com\", \"url\": \"https://www.britannica.com/plant/tea-plant\", \"description\": \"Tea production: Tea production, cultivation of the tea plant, usually done in large commercial operations. The plant, a species of evergeen (Camellia sinensis), is valued for its young leaves and leaf buds, from which the tea beverage is produced. This article treats the cultivation of the tea plant. For\"}\n",
      "    }, {\n",
      "      \"_index\" : \"agri\",\n",
      "      \"_type\" : \"india\",\n",
      "      \"_id\" : \"AWdHty3F-RmEWWMZbdJj\",\n",
      "      \"_score\" : 0.75435036,\n",
      "      \"_source\":{\"title\": \"Tea Growing Regions\", \"url\": \"https://www.indiatea.org/tea_growing_regions\", \"description\": \"\"}\n",
      "    }, {\n",
      "      \"_index\" : \"agri\",\n",
      "      \"_type\" : \"india\",\n",
      "      \"_id\" : \"AWdHtxtK-RmEWWMZbdJg\",\n",
      "      \"_score\" : 0.7028245,\n",
      "      \"_source\":{\"title\": \"Tea Farming Information Detailed Guide | Agri Farming\", \"url\": \"https://www.agrifarming.in/tea-farming-information/\", \"description\": \"Tea Farming:-Tea plantations were confined to Upper Assam only but later on, new areas such as lower Assam and Darjeeling were also opened up to tea\"}\n",
      "    }, {\n",
      "      \"_index\" : \"agri\",\n",
      "      \"_type\" : \"india\",\n",
      "      \"_id\" : \"AWdHtyNj-RmEWWMZbdJh\",\n",
      "      \"_score\" : 0.61592454,\n",
      "      \"_source\":{\"title\": \"Spices Varieties: List of Spices/Masale in India | Brand India Plantations\", \"url\": \"https://www.teacoffeespiceofindia.com/tea/tea-statistics\", \"description\": \"Latest statistics on the tea industry in India from the Tea Board of India. Know about major tea manufacturers and statistics around tea production and export from India.\"}\n",
      "    } ]\n",
      "  }\n",
      "}\n",
      "\n"
     ]
    }
   ],
   "source": [
    "search_term='tea'\n",
    "search_url = 'http://169.54.142.59:9200/agri/india'\n",
    "response = requests.get(search_url + '/_search?q=' + search_term + '&pretty')\n",
    "if response.status_code == 200:\n",
    "    print(response.text)"
   ]
  },
  {
   "cell_type": "code",
   "execution_count": 9,
   "metadata": {},
   "outputs": [],
   "source": [
    "dict_items = response.text"
   ]
  },
  {
   "cell_type": "code",
   "execution_count": 10,
   "metadata": {},
   "outputs": [
    {
     "data": {
      "text/plain": [
       "str"
      ]
     },
     "execution_count": 10,
     "metadata": {},
     "output_type": "execute_result"
    }
   ],
   "source": [
    "type(dict_items)"
   ]
  },
  {
   "cell_type": "code",
   "execution_count": 11,
   "metadata": {},
   "outputs": [],
   "source": [
    "json_data = json.loads(response.text)"
   ]
  },
  {
   "cell_type": "code",
   "execution_count": 19,
   "metadata": {},
   "outputs": [
    {
     "data": {
      "text/plain": [
       "{'took': 22,\n",
       " 'timed_out': False,\n",
       " '_shards': {'total': 5, 'successful': 5, 'failed': 0},\n",
       " 'hits': {'total': 4,\n",
       "  'max_score': 0.9232876,\n",
       "  'hits': [{'_index': 'agri',\n",
       "    '_type': 'india',\n",
       "    '_id': 'AWdHtyYW-RmEWWMZbdJi',\n",
       "    '_score': 0.9232876,\n",
       "    '_source': {'title': 'Tea production | plant | Britannica.com',\n",
       "     'url': 'https://www.britannica.com/plant/tea-plant',\n",
       "     'description': 'Tea production: Tea production, cultivation of the tea plant, usually done in large commercial operations. The plant, a species of evergeen (Camellia sinensis), is valued for its young leaves and leaf buds, from which the tea beverage is produced. This article treats the cultivation of the tea plant. For'}},\n",
       "   {'_index': 'agri',\n",
       "    '_type': 'india',\n",
       "    '_id': 'AWdHty3F-RmEWWMZbdJj',\n",
       "    '_score': 0.75435036,\n",
       "    '_source': {'title': 'Tea Growing Regions',\n",
       "     'url': 'https://www.indiatea.org/tea_growing_regions',\n",
       "     'description': ''}},\n",
       "   {'_index': 'agri',\n",
       "    '_type': 'india',\n",
       "    '_id': 'AWdHtxtK-RmEWWMZbdJg',\n",
       "    '_score': 0.7028245,\n",
       "    '_source': {'title': 'Tea Farming Information Detailed Guide | Agri Farming',\n",
       "     'url': 'https://www.agrifarming.in/tea-farming-information/',\n",
       "     'description': 'Tea Farming:-Tea plantations were confined to Upper Assam only but later on, new areas such as lower Assam and Darjeeling were also opened up to tea'}},\n",
       "   {'_index': 'agri',\n",
       "    '_type': 'india',\n",
       "    '_id': 'AWdHtyNj-RmEWWMZbdJh',\n",
       "    '_score': 0.61592454,\n",
       "    '_source': {'title': 'Spices Varieties: List of Spices/Masale in India | Brand India Plantations',\n",
       "     'url': 'https://www.teacoffeespiceofindia.com/tea/tea-statistics',\n",
       "     'description': 'Latest statistics on the tea industry in India from the Tea Board of India. Know about major tea manufacturers and statistics around tea production and export from India.'}}]}}"
      ]
     },
     "execution_count": 19,
     "metadata": {},
     "output_type": "execute_result"
    }
   ],
   "source": [
    "json_data"
   ]
  },
  {
   "cell_type": "code",
   "execution_count": 29,
   "metadata": {},
   "outputs": [
    {
     "data": {
      "text/plain": [
       "{'_index': 'agri',\n",
       " '_type': 'india',\n",
       " '_id': 'AWdHtyYW-RmEWWMZbdJi',\n",
       " '_score': 0.9232876,\n",
       " '_source': {'title': 'Tea production | plant | Britannica.com',\n",
       "  'url': 'https://www.britannica.com/plant/tea-plant',\n",
       "  'description': 'Tea production: Tea production, cultivation of the tea plant, usually done in large commercial operations. The plant, a species of evergeen (Camellia sinensis), is valued for its young leaves and leaf buds, from which the tea beverage is produced. This article treats the cultivation of the tea plant. For'}}"
      ]
     },
     "execution_count": 29,
     "metadata": {},
     "output_type": "execute_result"
    }
   ],
   "source": [
    "json_data['hits']['hits'][0]"
   ]
  },
  {
   "cell_type": "code",
   "execution_count": 30,
   "metadata": {},
   "outputs": [
    {
     "data": {
      "text/plain": [
       "{'_index': 'agri',\n",
       " '_type': 'india',\n",
       " '_id': 'AWdHty3F-RmEWWMZbdJj',\n",
       " '_score': 0.75435036,\n",
       " '_source': {'title': 'Tea Growing Regions',\n",
       "  'url': 'https://www.indiatea.org/tea_growing_regions',\n",
       "  'description': ''}}"
      ]
     },
     "execution_count": 30,
     "metadata": {},
     "output_type": "execute_result"
    }
   ],
   "source": [
    "json_data['hits']['hits'][1]"
   ]
  },
  {
   "cell_type": "code",
   "execution_count": 35,
   "metadata": {},
   "outputs": [
    {
     "data": {
      "text/plain": [
       "'Tea Farming Information Detailed Guide | Agri Farming'"
      ]
     },
     "execution_count": 35,
     "metadata": {},
     "output_type": "execute_result"
    }
   ],
   "source": [
    "json_data['hits']['hits'][2]['_source']['title']"
   ]
  },
  {
   "cell_type": "code",
   "execution_count": null,
   "metadata": {},
   "outputs": [],
   "source": []
  }
 ],
 "metadata": {
  "kernelspec": {
   "display_name": "Python 3",
   "language": "python",
   "name": "python3"
  },
  "language_info": {
   "codemirror_mode": {
    "name": "ipython",
    "version": 3
   },
   "file_extension": ".py",
   "mimetype": "text/x-python",
   "name": "python",
   "nbconvert_exporter": "python",
   "pygments_lexer": "ipython3",
   "version": "3.6.5"
  }
 },
 "nbformat": 4,
 "nbformat_minor": 2
}
